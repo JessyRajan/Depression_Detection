{
 "cells": [
  {
   "cell_type": "code",
   "execution_count": null,
   "metadata": {},
   "outputs": [],
   "source": [
    "from tweepy.streaming import StreamListener\n",
    "from tweepy import OAuthHandler\n",
    "from tweepy import Stream\n",
    "\n",
    "\n",
    "consumer_key = 'FIzSzQgeVFjKWVUOveOXQpWxA'\n",
    "consumer_secret = 'udITNAvSRE7xrAiEybmem2Tl0jc6AuUMMrfhryWZZ8Y6w9gPEO'\n",
    "access_token = '1093022156018143233-hhW7WXlRw7hscLwD9DdlTdRDmkBYvv'\n",
    "access_secret = 'vZrXnjzWB9jNFELm8tSAFg12CjiqRlhwcfNvlLQ6IjCVX'\n",
    "\n",
    "\n",
    "\n",
    "class StdOutListener(StreamListener):\n",
    "    def __init__(self):\n",
    "        return\n",
    "    def on_data(self, data):\n",
    "        with open('/home/jessy/project1/tweetdata.txt','a') as tf:\n",
    "            tf.write(data)\n",
    "        print(data)\n",
    "        return True\n",
    "\n",
    "    def on_error(self, status):\n",
    "        print(status)\n",
    "\n",
    "\n",
    "if __name__ == '__main__':\n",
    "\n",
    "\n",
    "     l = StdOutListener()\n",
    "     auth = OAuthHandler(consumer_key, consumer_secret)\n",
    "     auth.set_access_token(access_token, access_secret)\n",
    "     stream = Stream(auth, l)\n",
    "   #  print('abb')\n",
    "\n",
    "     stream.filter(track=['depression', 'anxiety', 'mental health', 'suicide', 'stress', 'sad','pain'])"
   ]
  }
 ],
 "metadata": {
  "kernelspec": {
   "display_name": "Python 3",
   "language": "python",
   "name": "python3"
  },
  "language_info": {
   "codemirror_mode": {
    "name": "ipython",
    "version": 3
   },
   "file_extension": ".py",
   "mimetype": "text/x-python",
   "name": "python",
   "nbconvert_exporter": "python",
   "pygments_lexer": "ipython3",
   "version": "3.5.2"
  }
 },
 "nbformat": 4,
 "nbformat_minor": 2
}
